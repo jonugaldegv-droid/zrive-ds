{
 "cells": [
  {
   "cell_type": "code",
   "execution_count": null,
   "id": "1713a890",
   "metadata": {},
   "outputs": [],
   "source": [
    "import boto3\n",
    "import os\n",
    "from dotenv import find_dotenv, load_dotenv\n",
    "\n",
    "# Find .env\n",
    "dotenv_path = find_dotenv()\n",
    "# Load entries as environment variables\n",
    "load_dotenv(dotenv_path)\n",
    "\n",
    "# Get .env variables\n",
    "ACCESS_KEY_ID = os.getenv('ACCESS_KEY_ID')\n",
    "SECRET_ACCESS_KEY = os.getenv('SECRET_ACCESS_KEY')\n",
    "\n",
    "s3_client = boto3.client(\n",
    "    's3',\n",
    "    aws_access_key_id=ACCESS_KEY_ID,\n",
    "    aws_secret_access_key=SECRET_ACCESS_KEY\n",
    ")\n",
    "\n",
    "s3_resource = boto3.resource('s3')\n",
    "s3_client.list_buckets()\n",
    "\n",
    "# response = s3_client.list_objects_v2(Bucket='zrive-ds-data')\n",
    "# objects = response.get('Contents', [])\n",
    "\n",
    "# print(objects)"
   ]
  },
  {
   "cell_type": "code",
   "execution_count": 10,
   "id": "bdae340f",
   "metadata": {},
   "outputs": [
    {
     "ename": "ClientError",
     "evalue": "An error occurred (AccessDenied) when calling the ListBuckets operation: User: arn:aws:iam::511025774037:user/z_ds_student is not authorized to perform: s3:ListAllMyBuckets with an explicit deny in an identity-based policy",
     "output_type": "error",
     "traceback": [
      "\u001b[31m---------------------------------------------------------------------------\u001b[39m",
      "\u001b[31mClientError\u001b[39m                               Traceback (most recent call last)",
      "\u001b[36mCell\u001b[39m\u001b[36m \u001b[39m\u001b[32mIn[10]\u001b[39m\u001b[32m, line 8\u001b[39m\n\u001b[32m      1\u001b[39m s3_client = boto3.client(\n\u001b[32m      2\u001b[39m     \u001b[33m'\u001b[39m\u001b[33ms3\u001b[39m\u001b[33m'\u001b[39m,\n\u001b[32m      3\u001b[39m     aws_access_key_id=ACCESS_KEY_ID,\n\u001b[32m      4\u001b[39m     aws_secret_access_key=SECRET_ACCESS_KEY\n\u001b[32m      5\u001b[39m )\n\u001b[32m      7\u001b[39m s3_resource = boto3.resource(\u001b[33m'\u001b[39m\u001b[33ms3\u001b[39m\u001b[33m'\u001b[39m)\n\u001b[32m----> \u001b[39m\u001b[32m8\u001b[39m \u001b[43ms3_client\u001b[49m\u001b[43m.\u001b[49m\u001b[43mlist_buckets\u001b[49m\u001b[43m(\u001b[49m\u001b[43m)\u001b[49m\n",
      "\u001b[36mFile \u001b[39m\u001b[32mc:\\Users\\jontx\\OneDrive\\Documentos\\.ZRIVE Applied Data Science\\zrive-ds\\.venv\\Lib\\site-packages\\botocore\\client.py:602\u001b[39m, in \u001b[36mClientCreator._create_api_method.<locals>._api_call\u001b[39m\u001b[34m(self, *args, **kwargs)\u001b[39m\n\u001b[32m    598\u001b[39m     \u001b[38;5;28;01mraise\u001b[39;00m \u001b[38;5;167;01mTypeError\u001b[39;00m(\n\u001b[32m    599\u001b[39m         \u001b[33mf\u001b[39m\u001b[33m\"\u001b[39m\u001b[38;5;132;01m{\u001b[39;00mpy_operation_name\u001b[38;5;132;01m}\u001b[39;00m\u001b[33m() only accepts keyword arguments.\u001b[39m\u001b[33m\"\u001b[39m\n\u001b[32m    600\u001b[39m     )\n\u001b[32m    601\u001b[39m \u001b[38;5;66;03m# The \"self\" in this scope is referring to the BaseClient.\u001b[39;00m\n\u001b[32m--> \u001b[39m\u001b[32m602\u001b[39m \u001b[38;5;28;01mreturn\u001b[39;00m \u001b[38;5;28;43mself\u001b[39;49m\u001b[43m.\u001b[49m\u001b[43m_make_api_call\u001b[49m\u001b[43m(\u001b[49m\u001b[43moperation_name\u001b[49m\u001b[43m,\u001b[49m\u001b[43m \u001b[49m\u001b[43mkwargs\u001b[49m\u001b[43m)\u001b[49m\n",
      "\u001b[36mFile \u001b[39m\u001b[32mc:\\Users\\jontx\\OneDrive\\Documentos\\.ZRIVE Applied Data Science\\zrive-ds\\.venv\\Lib\\site-packages\\botocore\\context.py:123\u001b[39m, in \u001b[36mwith_current_context.<locals>.decorator.<locals>.wrapper\u001b[39m\u001b[34m(*args, **kwargs)\u001b[39m\n\u001b[32m    121\u001b[39m \u001b[38;5;28;01mif\u001b[39;00m hook:\n\u001b[32m    122\u001b[39m     hook()\n\u001b[32m--> \u001b[39m\u001b[32m123\u001b[39m \u001b[38;5;28;01mreturn\u001b[39;00m \u001b[43mfunc\u001b[49m\u001b[43m(\u001b[49m\u001b[43m*\u001b[49m\u001b[43margs\u001b[49m\u001b[43m,\u001b[49m\u001b[43m \u001b[49m\u001b[43m*\u001b[49m\u001b[43m*\u001b[49m\u001b[43mkwargs\u001b[49m\u001b[43m)\u001b[49m\n",
      "\u001b[36mFile \u001b[39m\u001b[32mc:\\Users\\jontx\\OneDrive\\Documentos\\.ZRIVE Applied Data Science\\zrive-ds\\.venv\\Lib\\site-packages\\botocore\\client.py:1078\u001b[39m, in \u001b[36mBaseClient._make_api_call\u001b[39m\u001b[34m(self, operation_name, api_params)\u001b[39m\n\u001b[32m   1074\u001b[39m     error_code = request_context.get(\n\u001b[32m   1075\u001b[39m         \u001b[33m'\u001b[39m\u001b[33merror_code_override\u001b[39m\u001b[33m'\u001b[39m\n\u001b[32m   1076\u001b[39m     ) \u001b[38;5;129;01mor\u001b[39;00m error_info.get(\u001b[33m\"\u001b[39m\u001b[33mCode\u001b[39m\u001b[33m\"\u001b[39m)\n\u001b[32m   1077\u001b[39m     error_class = \u001b[38;5;28mself\u001b[39m.exceptions.from_code(error_code)\n\u001b[32m-> \u001b[39m\u001b[32m1078\u001b[39m     \u001b[38;5;28;01mraise\u001b[39;00m error_class(parsed_response, operation_name)\n\u001b[32m   1079\u001b[39m \u001b[38;5;28;01melse\u001b[39;00m:\n\u001b[32m   1080\u001b[39m     \u001b[38;5;28;01mreturn\u001b[39;00m parsed_response\n",
      "\u001b[31mClientError\u001b[39m: An error occurred (AccessDenied) when calling the ListBuckets operation: User: arn:aws:iam::511025774037:user/z_ds_student is not authorized to perform: s3:ListAllMyBuckets with an explicit deny in an identity-based policy"
     ]
    }
   ],
   "source": [
    "s3_client = boto3.client(\n",
    "    's3',\n",
    "    aws_access_key_id=ACCESS_KEY_ID,\n",
    "    aws_secret_access_key=SECRET_ACCESS_KEY\n",
    ")\n",
    "\n",
    "s3_resource = boto3.resource('s3')\n",
    "s3_client.list_buckets()"
   ]
  },
  {
   "cell_type": "code",
   "execution_count": null,
   "id": "7ad1350e",
   "metadata": {},
   "outputs": [
    {
     "name": "stdout",
     "output_type": "stream",
     "text": [
      "Not downloading: feature_frame.csv\n",
      "Downloading: groceries/sampled-datasets/abandoned_carts.parquet → abandoned_carts_downloaded.parquet\n",
      "Downloading: groceries/sampled-datasets/inventory.parquet → inventory_downloaded.parquet\n",
      "Downloading: groceries/sampled-datasets/orders.parquet → orders_downloaded.parquet\n",
      "Downloading: groceries/sampled-datasets/regulars.parquet → regulars_downloaded.parquet\n",
      "Downloading: groceries/sampled-datasets/users.parquet → users_downloaded.parquet\n",
      "Not downloading: model.joblib\n"
     ]
    }
   ],
   "source": [
    "file_list = []\n",
    "for obj in objects: \n",
    "    key = obj['Key']\n",
    "    # print(key)\n",
    "    if key.endswith('.parquet'):\n",
    "        fname = os.path.basename(key)\n",
    "        file_list.append(fname)\n",
    "        print(\"Downloading:\", key, \"->\", fname)\n",
    "        s3_client.download_file(Bucket='zrive-ds-data', Key=key, Filename=fname)\n",
    "    else:\n",
    "        base = os.path.basename(key)\n",
    "        print(f'Not downloading: {base}')"
   ]
  },
  {
   "cell_type": "markdown",
   "id": "a3fe5d9a",
   "metadata": {},
   "source": [
    "## Understanding the problem"
   ]
  },
  {
   "cell_type": "code",
   "execution_count": 70,
   "id": "b42b9312",
   "metadata": {},
   "outputs": [],
   "source": [
    "import pandas as pd\n",
    "import matplotlib.pyplot as plt\n",
    "import numpy as np\n",
    "import os\n",
    "import seaborn as sns\n",
    "\n",
    "plt.style.use('fivethirtyeight')"
   ]
  },
  {
   "cell_type": "code",
   "execution_count": 3,
   "id": "fce141c7",
   "metadata": {},
   "outputs": [],
   "source": [
    "data_path = os.getcwd()"
   ]
  },
  {
   "cell_type": "code",
   "execution_count": 4,
   "id": "29876bb5",
   "metadata": {},
   "outputs": [],
   "source": [
    "abandoned_carts = pd.read_parquet(f'{data_path}/abandoned_carts.parquet')\n",
    "inventory = pd.read_parquet(f'{data_path}/inventory.parquet')\n",
    "orders = pd.read_parquet(f'{data_path}/orders.parquet')\n",
    "regulars = pd.read_parquet(f'{data_path}/regulars.parquet')\n",
    "users = pd.read_parquet(f'{data_path}/users.parquet')"
   ]
  },
  {
   "cell_type": "markdown",
   "id": "2ad1e53b",
   "metadata": {},
   "source": [
    "#### Visualizing the data"
   ]
  },
  {
   "cell_type": "code",
   "execution_count": 17,
   "id": "4fd1a1b4",
   "metadata": {},
   "outputs": [
    {
     "name": "stdout",
     "output_type": "stream",
     "text": [
      "<class 'pandas.core.frame.DataFrame'>\n",
      "Index: 5457 entries, 0 to 70050\n",
      "Data columns (total 4 columns):\n",
      " #   Column      Non-Null Count  Dtype         \n",
      "---  ------      --------------  -----         \n",
      " 0   id          5457 non-null   int64         \n",
      " 1   user_id     5457 non-null   object        \n",
      " 2   created_at  5457 non-null   datetime64[us]\n",
      " 3   variant_id  5457 non-null   object        \n",
      "dtypes: datetime64[us](1), int64(1), object(2)\n",
      "memory usage: 213.2+ KB\n"
     ]
    }
   ],
   "source": [
    "abandoned_carts.info()"
   ]
  },
  {
   "cell_type": "code",
   "execution_count": 23,
   "id": "374afb4c",
   "metadata": {},
   "outputs": [
    {
     "data": {
      "text/html": [
       "<div>\n",
       "<style scoped>\n",
       "    .dataframe tbody tr th:only-of-type {\n",
       "        vertical-align: middle;\n",
       "    }\n",
       "\n",
       "    .dataframe tbody tr th {\n",
       "        vertical-align: top;\n",
       "    }\n",
       "\n",
       "    .dataframe thead th {\n",
       "        text-align: right;\n",
       "    }\n",
       "</style>\n",
       "<table border=\"1\" class=\"dataframe\">\n",
       "  <thead>\n",
       "    <tr style=\"text-align: right;\">\n",
       "      <th></th>\n",
       "      <th>id</th>\n",
       "      <th>user_id</th>\n",
       "      <th>created_at</th>\n",
       "      <th>variant_id</th>\n",
       "    </tr>\n",
       "  </thead>\n",
       "  <tbody>\n",
       "    <tr>\n",
       "      <th>0</th>\n",
       "      <td>12858560217220</td>\n",
       "      <td>5c4e5953f13ddc3bc9659a3453356155e5efe4739d7a2b...</td>\n",
       "      <td>2020-05-20 13:53:24</td>\n",
       "      <td>[33826459287684, 33826457616516, 3366719212762...</td>\n",
       "    </tr>\n",
       "    <tr>\n",
       "      <th>13</th>\n",
       "      <td>20352449839236</td>\n",
       "      <td>9d6187545c005d39e44d0456d87790db18611d7c7379bd...</td>\n",
       "      <td>2021-06-27 05:24:13</td>\n",
       "      <td>[34415988179076, 34037940158596, 3450282236326...</td>\n",
       "    </tr>\n",
       "    <tr>\n",
       "      <th>45</th>\n",
       "      <td>20478401413252</td>\n",
       "      <td>e83fb0273d70c37a2968fee107113698fd4f389c442c0b...</td>\n",
       "      <td>2021-07-18 08:23:49</td>\n",
       "      <td>[34543001337988, 34037939372164, 3411360609088...</td>\n",
       "    </tr>\n",
       "    <tr>\n",
       "      <th>50</th>\n",
       "      <td>20481783103620</td>\n",
       "      <td>10c42e10e530284b7c7c50f3a23a98726d5747b8128084...</td>\n",
       "      <td>2021-07-18 21:29:36</td>\n",
       "      <td>[33667268116612, 34037940224132, 3443605520397...</td>\n",
       "    </tr>\n",
       "    <tr>\n",
       "      <th>52</th>\n",
       "      <td>20485321687172</td>\n",
       "      <td>d9989439524b3f6fc4f41686d043f315fb408b954d6153...</td>\n",
       "      <td>2021-07-19 12:17:05</td>\n",
       "      <td>[33667268083844, 34284950454404, 33973246886020]</td>\n",
       "    </tr>\n",
       "  </tbody>\n",
       "</table>\n",
       "</div>"
      ],
      "text/plain": [
       "                id                                            user_id  \\\n",
       "0   12858560217220  5c4e5953f13ddc3bc9659a3453356155e5efe4739d7a2b...   \n",
       "13  20352449839236  9d6187545c005d39e44d0456d87790db18611d7c7379bd...   \n",
       "45  20478401413252  e83fb0273d70c37a2968fee107113698fd4f389c442c0b...   \n",
       "50  20481783103620  10c42e10e530284b7c7c50f3a23a98726d5747b8128084...   \n",
       "52  20485321687172  d9989439524b3f6fc4f41686d043f315fb408b954d6153...   \n",
       "\n",
       "            created_at                                         variant_id  \n",
       "0  2020-05-20 13:53:24  [33826459287684, 33826457616516, 3366719212762...  \n",
       "13 2021-06-27 05:24:13  [34415988179076, 34037940158596, 3450282236326...  \n",
       "45 2021-07-18 08:23:49  [34543001337988, 34037939372164, 3411360609088...  \n",
       "50 2021-07-18 21:29:36  [33667268116612, 34037940224132, 3443605520397...  \n",
       "52 2021-07-19 12:17:05   [33667268083844, 34284950454404, 33973246886020]  "
      ]
     },
     "execution_count": 23,
     "metadata": {},
     "output_type": "execute_result"
    }
   ],
   "source": [
    "abandoned_carts.head()"
   ]
  },
  {
   "cell_type": "code",
   "execution_count": 18,
   "id": "58629cf6",
   "metadata": {},
   "outputs": [
    {
     "name": "stdout",
     "output_type": "stream",
     "text": [
      "<class 'pandas.core.frame.DataFrame'>\n",
      "RangeIndex: 1733 entries, 0 to 1732\n",
      "Data columns (total 6 columns):\n",
      " #   Column            Non-Null Count  Dtype  \n",
      "---  ------            --------------  -----  \n",
      " 0   variant_id        1733 non-null   int64  \n",
      " 1   price             1733 non-null   float64\n",
      " 2   compare_at_price  1733 non-null   float64\n",
      " 3   vendor            1733 non-null   object \n",
      " 4   product_type      1733 non-null   object \n",
      " 5   tags              1733 non-null   object \n",
      "dtypes: float64(2), int64(1), object(3)\n",
      "memory usage: 81.4+ KB\n"
     ]
    }
   ],
   "source": [
    "inventory.info()"
   ]
  },
  {
   "cell_type": "code",
   "execution_count": 24,
   "id": "6da2eb29",
   "metadata": {},
   "outputs": [
    {
     "data": {
      "text/html": [
       "<div>\n",
       "<style scoped>\n",
       "    .dataframe tbody tr th:only-of-type {\n",
       "        vertical-align: middle;\n",
       "    }\n",
       "\n",
       "    .dataframe tbody tr th {\n",
       "        vertical-align: top;\n",
       "    }\n",
       "\n",
       "    .dataframe thead th {\n",
       "        text-align: right;\n",
       "    }\n",
       "</style>\n",
       "<table border=\"1\" class=\"dataframe\">\n",
       "  <thead>\n",
       "    <tr style=\"text-align: right;\">\n",
       "      <th></th>\n",
       "      <th>variant_id</th>\n",
       "      <th>price</th>\n",
       "      <th>compare_at_price</th>\n",
       "      <th>vendor</th>\n",
       "      <th>product_type</th>\n",
       "      <th>tags</th>\n",
       "    </tr>\n",
       "  </thead>\n",
       "  <tbody>\n",
       "    <tr>\n",
       "      <th>0</th>\n",
       "      <td>39587297165444</td>\n",
       "      <td>3.09</td>\n",
       "      <td>3.15</td>\n",
       "      <td>heinz</td>\n",
       "      <td>condiments-dressings</td>\n",
       "      <td>[table-sauces, vegan]</td>\n",
       "    </tr>\n",
       "    <tr>\n",
       "      <th>1</th>\n",
       "      <td>34370361229444</td>\n",
       "      <td>4.99</td>\n",
       "      <td>5.50</td>\n",
       "      <td>whogivesacrap</td>\n",
       "      <td>toilet-roll-kitchen-roll-tissue</td>\n",
       "      <td>[b-corp, eco, toilet-rolls]</td>\n",
       "    </tr>\n",
       "    <tr>\n",
       "      <th>2</th>\n",
       "      <td>34284951863428</td>\n",
       "      <td>3.69</td>\n",
       "      <td>3.99</td>\n",
       "      <td>plenty</td>\n",
       "      <td>toilet-roll-kitchen-roll-tissue</td>\n",
       "      <td>[kitchen-roll]</td>\n",
       "    </tr>\n",
       "    <tr>\n",
       "      <th>3</th>\n",
       "      <td>33667283583108</td>\n",
       "      <td>1.79</td>\n",
       "      <td>1.99</td>\n",
       "      <td>thecheekypanda</td>\n",
       "      <td>toilet-roll-kitchen-roll-tissue</td>\n",
       "      <td>[b-corp, cruelty-free, eco, tissue, vegan]</td>\n",
       "    </tr>\n",
       "    <tr>\n",
       "      <th>4</th>\n",
       "      <td>33803537973380</td>\n",
       "      <td>1.99</td>\n",
       "      <td>2.09</td>\n",
       "      <td>colgate</td>\n",
       "      <td>dental</td>\n",
       "      <td>[dental-accessories]</td>\n",
       "    </tr>\n",
       "  </tbody>\n",
       "</table>\n",
       "</div>"
      ],
      "text/plain": [
       "       variant_id  price  compare_at_price          vendor  \\\n",
       "0  39587297165444   3.09              3.15           heinz   \n",
       "1  34370361229444   4.99              5.50   whogivesacrap   \n",
       "2  34284951863428   3.69              3.99          plenty   \n",
       "3  33667283583108   1.79              1.99  thecheekypanda   \n",
       "4  33803537973380   1.99              2.09         colgate   \n",
       "\n",
       "                      product_type                                        tags  \n",
       "0             condiments-dressings                       [table-sauces, vegan]  \n",
       "1  toilet-roll-kitchen-roll-tissue                 [b-corp, eco, toilet-rolls]  \n",
       "2  toilet-roll-kitchen-roll-tissue                              [kitchen-roll]  \n",
       "3  toilet-roll-kitchen-roll-tissue  [b-corp, cruelty-free, eco, tissue, vegan]  \n",
       "4                           dental                        [dental-accessories]  "
      ]
     },
     "execution_count": 24,
     "metadata": {},
     "output_type": "execute_result"
    }
   ],
   "source": [
    "inventory.head()"
   ]
  },
  {
   "cell_type": "code",
   "execution_count": 19,
   "id": "a9aefa22",
   "metadata": {},
   "outputs": [
    {
     "name": "stdout",
     "output_type": "stream",
     "text": [
      "<class 'pandas.core.frame.DataFrame'>\n",
      "Index: 8773 entries, 10 to 64538\n",
      "Data columns (total 6 columns):\n",
      " #   Column          Non-Null Count  Dtype         \n",
      "---  ------          --------------  -----         \n",
      " 0   id              8773 non-null   int64         \n",
      " 1   user_id         8773 non-null   object        \n",
      " 2   created_at      8773 non-null   datetime64[us]\n",
      " 3   order_date      8773 non-null   datetime64[us]\n",
      " 4   user_order_seq  8773 non-null   int64         \n",
      " 5   ordered_items   8773 non-null   object        \n",
      "dtypes: datetime64[us](2), int64(2), object(2)\n",
      "memory usage: 479.8+ KB\n"
     ]
    }
   ],
   "source": [
    "orders.info()"
   ]
  },
  {
   "cell_type": "code",
   "execution_count": 25,
   "id": "72016076",
   "metadata": {},
   "outputs": [
    {
     "data": {
      "text/html": [
       "<div>\n",
       "<style scoped>\n",
       "    .dataframe tbody tr th:only-of-type {\n",
       "        vertical-align: middle;\n",
       "    }\n",
       "\n",
       "    .dataframe tbody tr th {\n",
       "        vertical-align: top;\n",
       "    }\n",
       "\n",
       "    .dataframe thead th {\n",
       "        text-align: right;\n",
       "    }\n",
       "</style>\n",
       "<table border=\"1\" class=\"dataframe\">\n",
       "  <thead>\n",
       "    <tr style=\"text-align: right;\">\n",
       "      <th></th>\n",
       "      <th>id</th>\n",
       "      <th>user_id</th>\n",
       "      <th>created_at</th>\n",
       "      <th>order_date</th>\n",
       "      <th>user_order_seq</th>\n",
       "      <th>ordered_items</th>\n",
       "    </tr>\n",
       "  </thead>\n",
       "  <tbody>\n",
       "    <tr>\n",
       "      <th>10</th>\n",
       "      <td>2204073066628</td>\n",
       "      <td>62e271062eb827e411bd73941178d29b022f5f2de9d37f...</td>\n",
       "      <td>2020-04-30 14:32:19</td>\n",
       "      <td>2020-04-30</td>\n",
       "      <td>1</td>\n",
       "      <td>[33618849693828, 33618860179588, 3361887404045...</td>\n",
       "    </tr>\n",
       "    <tr>\n",
       "      <th>20</th>\n",
       "      <td>2204707520644</td>\n",
       "      <td>bf591c887c46d5d3513142b6a855dd7ffb9cc00697f6f5...</td>\n",
       "      <td>2020-04-30 17:39:00</td>\n",
       "      <td>2020-04-30</td>\n",
       "      <td>1</td>\n",
       "      <td>[33618835243140, 33618835964036, 3361886244058...</td>\n",
       "    </tr>\n",
       "    <tr>\n",
       "      <th>21</th>\n",
       "      <td>2204838822020</td>\n",
       "      <td>329f08c66abb51f8c0b8a9526670da2d94c0c6eef06700...</td>\n",
       "      <td>2020-04-30 18:12:30</td>\n",
       "      <td>2020-04-30</td>\n",
       "      <td>1</td>\n",
       "      <td>[33618891145348, 33618893570180, 3361889766618...</td>\n",
       "    </tr>\n",
       "    <tr>\n",
       "      <th>34</th>\n",
       "      <td>2208967852164</td>\n",
       "      <td>f6451fce7b1c58d0effbe37fcb4e67b718193562766470...</td>\n",
       "      <td>2020-05-01 19:44:11</td>\n",
       "      <td>2020-05-01</td>\n",
       "      <td>1</td>\n",
       "      <td>[33618830196868, 33618846580868, 3361891234624...</td>\n",
       "    </tr>\n",
       "    <tr>\n",
       "      <th>49</th>\n",
       "      <td>2215889436804</td>\n",
       "      <td>68e872ff888303bff58ec56a3a986f77ddebdbe5c279e7...</td>\n",
       "      <td>2020-05-03 21:56:14</td>\n",
       "      <td>2020-05-03</td>\n",
       "      <td>1</td>\n",
       "      <td>[33667166699652, 33667166699652, 3366717122163...</td>\n",
       "    </tr>\n",
       "  </tbody>\n",
       "</table>\n",
       "</div>"
      ],
      "text/plain": [
       "               id                                            user_id  \\\n",
       "10  2204073066628  62e271062eb827e411bd73941178d29b022f5f2de9d37f...   \n",
       "20  2204707520644  bf591c887c46d5d3513142b6a855dd7ffb9cc00697f6f5...   \n",
       "21  2204838822020  329f08c66abb51f8c0b8a9526670da2d94c0c6eef06700...   \n",
       "34  2208967852164  f6451fce7b1c58d0effbe37fcb4e67b718193562766470...   \n",
       "49  2215889436804  68e872ff888303bff58ec56a3a986f77ddebdbe5c279e7...   \n",
       "\n",
       "            created_at order_date  user_order_seq  \\\n",
       "10 2020-04-30 14:32:19 2020-04-30               1   \n",
       "20 2020-04-30 17:39:00 2020-04-30               1   \n",
       "21 2020-04-30 18:12:30 2020-04-30               1   \n",
       "34 2020-05-01 19:44:11 2020-05-01               1   \n",
       "49 2020-05-03 21:56:14 2020-05-03               1   \n",
       "\n",
       "                                        ordered_items  \n",
       "10  [33618849693828, 33618860179588, 3361887404045...  \n",
       "20  [33618835243140, 33618835964036, 3361886244058...  \n",
       "21  [33618891145348, 33618893570180, 3361889766618...  \n",
       "34  [33618830196868, 33618846580868, 3361891234624...  \n",
       "49  [33667166699652, 33667166699652, 3366717122163...  "
      ]
     },
     "execution_count": 25,
     "metadata": {},
     "output_type": "execute_result"
    }
   ],
   "source": [
    "orders.head()"
   ]
  },
  {
   "cell_type": "code",
   "execution_count": 20,
   "id": "860eab75",
   "metadata": {},
   "outputs": [
    {
     "name": "stdout",
     "output_type": "stream",
     "text": [
      "<class 'pandas.core.frame.DataFrame'>\n",
      "Index: 18105 entries, 3 to 37720\n",
      "Data columns (total 3 columns):\n",
      " #   Column      Non-Null Count  Dtype         \n",
      "---  ------      --------------  -----         \n",
      " 0   user_id     18105 non-null  object        \n",
      " 1   variant_id  18105 non-null  int64         \n",
      " 2   created_at  18105 non-null  datetime64[us]\n",
      "dtypes: datetime64[us](1), int64(1), object(1)\n",
      "memory usage: 565.8+ KB\n"
     ]
    }
   ],
   "source": [
    "regulars.info()"
   ]
  },
  {
   "cell_type": "code",
   "execution_count": 26,
   "id": "918a6fab",
   "metadata": {},
   "outputs": [
    {
     "data": {
      "text/html": [
       "<div>\n",
       "<style scoped>\n",
       "    .dataframe tbody tr th:only-of-type {\n",
       "        vertical-align: middle;\n",
       "    }\n",
       "\n",
       "    .dataframe tbody tr th {\n",
       "        vertical-align: top;\n",
       "    }\n",
       "\n",
       "    .dataframe thead th {\n",
       "        text-align: right;\n",
       "    }\n",
       "</style>\n",
       "<table border=\"1\" class=\"dataframe\">\n",
       "  <thead>\n",
       "    <tr style=\"text-align: right;\">\n",
       "      <th></th>\n",
       "      <th>user_id</th>\n",
       "      <th>variant_id</th>\n",
       "      <th>created_at</th>\n",
       "    </tr>\n",
       "  </thead>\n",
       "  <tbody>\n",
       "    <tr>\n",
       "      <th>3</th>\n",
       "      <td>68e872ff888303bff58ec56a3a986f77ddebdbe5c279e7...</td>\n",
       "      <td>33618848088196</td>\n",
       "      <td>2020-04-30 15:07:03</td>\n",
       "    </tr>\n",
       "    <tr>\n",
       "      <th>11</th>\n",
       "      <td>aed88fc0b004270a62ff1fe4b94141f6b1db1496dbb0c0...</td>\n",
       "      <td>33667178659972</td>\n",
       "      <td>2020-05-05 23:34:35</td>\n",
       "    </tr>\n",
       "    <tr>\n",
       "      <th>18</th>\n",
       "      <td>68e872ff888303bff58ec56a3a986f77ddebdbe5c279e7...</td>\n",
       "      <td>33619009208452</td>\n",
       "      <td>2020-04-30 15:07:03</td>\n",
       "    </tr>\n",
       "    <tr>\n",
       "      <th>46</th>\n",
       "      <td>aed88fc0b004270a62ff1fe4b94141f6b1db1496dbb0c0...</td>\n",
       "      <td>33667305373828</td>\n",
       "      <td>2020-05-05 23:34:35</td>\n",
       "    </tr>\n",
       "    <tr>\n",
       "      <th>47</th>\n",
       "      <td>4594e99557113d5a1c5b59bf31b8704aafe5c7bd180b32...</td>\n",
       "      <td>33667247341700</td>\n",
       "      <td>2020-05-06 14:42:11</td>\n",
       "    </tr>\n",
       "  </tbody>\n",
       "</table>\n",
       "</div>"
      ],
      "text/plain": [
       "                                              user_id      variant_id  \\\n",
       "3   68e872ff888303bff58ec56a3a986f77ddebdbe5c279e7...  33618848088196   \n",
       "11  aed88fc0b004270a62ff1fe4b94141f6b1db1496dbb0c0...  33667178659972   \n",
       "18  68e872ff888303bff58ec56a3a986f77ddebdbe5c279e7...  33619009208452   \n",
       "46  aed88fc0b004270a62ff1fe4b94141f6b1db1496dbb0c0...  33667305373828   \n",
       "47  4594e99557113d5a1c5b59bf31b8704aafe5c7bd180b32...  33667247341700   \n",
       "\n",
       "            created_at  \n",
       "3  2020-04-30 15:07:03  \n",
       "11 2020-05-05 23:34:35  \n",
       "18 2020-04-30 15:07:03  \n",
       "46 2020-05-05 23:34:35  \n",
       "47 2020-05-06 14:42:11  "
      ]
     },
     "execution_count": 26,
     "metadata": {},
     "output_type": "execute_result"
    }
   ],
   "source": [
    "regulars.head()"
   ]
  },
  {
   "cell_type": "code",
   "execution_count": 21,
   "id": "a89af02e",
   "metadata": {},
   "outputs": [
    {
     "name": "stdout",
     "output_type": "stream",
     "text": [
      "<class 'pandas.core.frame.DataFrame'>\n",
      "Index: 4983 entries, 2160 to 3360\n",
      "Data columns (total 10 columns):\n",
      " #   Column                 Non-Null Count  Dtype  \n",
      "---  ------                 --------------  -----  \n",
      " 0   user_id                4983 non-null   object \n",
      " 1   user_segment           4983 non-null   object \n",
      " 2   user_nuts1             4932 non-null   object \n",
      " 3   first_ordered_at       4983 non-null   object \n",
      " 4   customer_cohort_month  4983 non-null   object \n",
      " 5   count_people           325 non-null    float64\n",
      " 6   count_adults           325 non-null    float64\n",
      " 7   count_children         325 non-null    float64\n",
      " 8   count_babies           325 non-null    float64\n",
      " 9   count_pets             325 non-null    float64\n",
      "dtypes: float64(5), object(5)\n",
      "memory usage: 428.2+ KB\n"
     ]
    }
   ],
   "source": [
    "users.info()"
   ]
  },
  {
   "cell_type": "code",
   "execution_count": 28,
   "id": "81a85662",
   "metadata": {},
   "outputs": [
    {
     "data": {
      "text/html": [
       "<div>\n",
       "<style scoped>\n",
       "    .dataframe tbody tr th:only-of-type {\n",
       "        vertical-align: middle;\n",
       "    }\n",
       "\n",
       "    .dataframe tbody tr th {\n",
       "        vertical-align: top;\n",
       "    }\n",
       "\n",
       "    .dataframe thead th {\n",
       "        text-align: right;\n",
       "    }\n",
       "</style>\n",
       "<table border=\"1\" class=\"dataframe\">\n",
       "  <thead>\n",
       "    <tr style=\"text-align: right;\">\n",
       "      <th></th>\n",
       "      <th>user_id</th>\n",
       "      <th>user_segment</th>\n",
       "      <th>user_nuts1</th>\n",
       "      <th>first_ordered_at</th>\n",
       "      <th>customer_cohort_month</th>\n",
       "      <th>count_people</th>\n",
       "      <th>count_adults</th>\n",
       "      <th>count_children</th>\n",
       "      <th>count_babies</th>\n",
       "      <th>count_pets</th>\n",
       "    </tr>\n",
       "  </thead>\n",
       "  <tbody>\n",
       "    <tr>\n",
       "      <th>4751</th>\n",
       "      <td>09d70e0b0778117aec5550c08032d56f8e06f992741680...</td>\n",
       "      <td>Proposition</td>\n",
       "      <td>UKI</td>\n",
       "      <td>2021-06-28 12:07:04</td>\n",
       "      <td>2021-06-01 00:00:00</td>\n",
       "      <td>1.0</td>\n",
       "      <td>1.0</td>\n",
       "      <td>0.0</td>\n",
       "      <td>0.0</td>\n",
       "      <td>0.0</td>\n",
       "    </tr>\n",
       "    <tr>\n",
       "      <th>3154</th>\n",
       "      <td>4f5ff38ce5ed48096ba80dff80e167db1ad24b9ebdb00c...</td>\n",
       "      <td>Top Up</td>\n",
       "      <td>UKD</td>\n",
       "      <td>2020-06-12 12:07:35</td>\n",
       "      <td>2020-06-01 00:00:00</td>\n",
       "      <td>3.0</td>\n",
       "      <td>2.0</td>\n",
       "      <td>0.0</td>\n",
       "      <td>1.0</td>\n",
       "      <td>0.0</td>\n",
       "    </tr>\n",
       "    <tr>\n",
       "      <th>736</th>\n",
       "      <td>7b2ae50bb11646436fa613394fc3e71e1a0cdc3ba30cdb...</td>\n",
       "      <td>Proposition</td>\n",
       "      <td>UKF</td>\n",
       "      <td>2020-10-03 09:53:57</td>\n",
       "      <td>2020-10-01 00:00:00</td>\n",
       "      <td>2.0</td>\n",
       "      <td>2.0</td>\n",
       "      <td>0.0</td>\n",
       "      <td>0.0</td>\n",
       "      <td>2.0</td>\n",
       "    </tr>\n",
       "    <tr>\n",
       "      <th>4792</th>\n",
       "      <td>5e977a4aa2c57f306b8a22f92eaaa177f7dc31a52df82c...</td>\n",
       "      <td>Proposition</td>\n",
       "      <td>UKI</td>\n",
       "      <td>2021-10-14 10:41:13</td>\n",
       "      <td>2021-10-01 00:00:00</td>\n",
       "      <td>2.0</td>\n",
       "      <td>1.0</td>\n",
       "      <td>1.0</td>\n",
       "      <td>0.0</td>\n",
       "      <td>1.0</td>\n",
       "    </tr>\n",
       "    <tr>\n",
       "      <th>2217</th>\n",
       "      <td>eafb89ad33eb377adb98a915b6a5a65f1284c2db517d07...</td>\n",
       "      <td>Proposition</td>\n",
       "      <td>UKH</td>\n",
       "      <td>2022-01-20 15:53:09</td>\n",
       "      <td>2022-01-01 00:00:00</td>\n",
       "      <td>2.0</td>\n",
       "      <td>2.0</td>\n",
       "      <td>0.0</td>\n",
       "      <td>0.0</td>\n",
       "      <td>0.0</td>\n",
       "    </tr>\n",
       "  </tbody>\n",
       "</table>\n",
       "</div>"
      ],
      "text/plain": [
       "                                                user_id user_segment  \\\n",
       "4751  09d70e0b0778117aec5550c08032d56f8e06f992741680...  Proposition   \n",
       "3154  4f5ff38ce5ed48096ba80dff80e167db1ad24b9ebdb00c...       Top Up   \n",
       "736   7b2ae50bb11646436fa613394fc3e71e1a0cdc3ba30cdb...  Proposition   \n",
       "4792  5e977a4aa2c57f306b8a22f92eaaa177f7dc31a52df82c...  Proposition   \n",
       "2217  eafb89ad33eb377adb98a915b6a5a65f1284c2db517d07...  Proposition   \n",
       "\n",
       "     user_nuts1     first_ordered_at customer_cohort_month  count_people  \\\n",
       "4751        UKI  2021-06-28 12:07:04   2021-06-01 00:00:00           1.0   \n",
       "3154        UKD  2020-06-12 12:07:35   2020-06-01 00:00:00           3.0   \n",
       "736         UKF  2020-10-03 09:53:57   2020-10-01 00:00:00           2.0   \n",
       "4792        UKI  2021-10-14 10:41:13   2021-10-01 00:00:00           2.0   \n",
       "2217        UKH  2022-01-20 15:53:09   2022-01-01 00:00:00           2.0   \n",
       "\n",
       "      count_adults  count_children  count_babies  count_pets  \n",
       "4751           1.0             0.0           0.0         0.0  \n",
       "3154           2.0             0.0           1.0         0.0  \n",
       "736            2.0             0.0           0.0         2.0  \n",
       "4792           1.0             1.0           0.0         1.0  \n",
       "2217           2.0             0.0           0.0         0.0  "
      ]
     },
     "execution_count": 28,
     "metadata": {},
     "output_type": "execute_result"
    }
   ],
   "source": [
    "users.dropna().head()"
   ]
  },
  {
   "cell_type": "markdown",
   "id": "eded829d",
   "metadata": {},
   "source": [
    "There are a lot of missing variables in 'users', for those variables starting with 'count_'"
   ]
  },
  {
   "cell_type": "markdown",
   "id": "269248bd",
   "metadata": {},
   "source": [
    "## QUESTIONS\n",
    "- Perfil de clientes (de aquellos que tengo todos los datos)\n",
    "- Sobre abandoned products, cuáles aparecen más y ver si el cliente ha comprado después\n",
    "- Analizar regulars"
   ]
  },
  {
   "cell_type": "markdown",
   "id": "4cbda107",
   "metadata": {},
   "source": [
    "### Clientes"
   ]
  },
  {
   "cell_type": "code",
   "execution_count": null,
   "id": "1092f7db",
   "metadata": {},
   "outputs": [],
   "source": [
    "## Add number of orders done by client & regulars. See profile of more buying clients\n",
    "n_orders = (orders.explode('ordered_items').groupby('user_id')['ordered_items'].nunique().reset_index())\n",
    "n_regulars = regulars.groupby('user_id')['variant_id'].nunique().reset_index().rename(columns={'variant_id':'n_regulars'})\n",
    "\n",
    "users = users.merge(n_orders, on='user_id', how='left').fillna({'ordered_items':0})\n",
    "users = users.merge(n_regulars, on='user_id', how='left').fillna({'n_regulars':0})\n",
    "users = users.dropna()"
   ]
  },
  {
   "cell_type": "code",
   "execution_count": 63,
   "id": "4b355114",
   "metadata": {},
   "outputs": [
    {
     "data": {
      "text/html": [
       "<div>\n",
       "<style scoped>\n",
       "    .dataframe tbody tr th:only-of-type {\n",
       "        vertical-align: middle;\n",
       "    }\n",
       "\n",
       "    .dataframe tbody tr th {\n",
       "        vertical-align: top;\n",
       "    }\n",
       "\n",
       "    .dataframe thead th {\n",
       "        text-align: right;\n",
       "    }\n",
       "</style>\n",
       "<table border=\"1\" class=\"dataframe\">\n",
       "  <thead>\n",
       "    <tr style=\"text-align: right;\">\n",
       "      <th></th>\n",
       "      <th>count_people</th>\n",
       "      <th>count_adults</th>\n",
       "      <th>count_children</th>\n",
       "      <th>count_babies</th>\n",
       "      <th>count_pets</th>\n",
       "      <th>ordered_items</th>\n",
       "      <th>n_regulars</th>\n",
       "    </tr>\n",
       "  </thead>\n",
       "  <tbody>\n",
       "    <tr>\n",
       "      <th>count</th>\n",
       "      <td>323.000000</td>\n",
       "      <td>323.000000</td>\n",
       "      <td>323.000000</td>\n",
       "      <td>323.000000</td>\n",
       "      <td>323.000000</td>\n",
       "      <td>323.000000</td>\n",
       "      <td>323.000000</td>\n",
       "    </tr>\n",
       "    <tr>\n",
       "      <th>mean</th>\n",
       "      <td>2.773994</td>\n",
       "      <td>1.987616</td>\n",
       "      <td>0.708978</td>\n",
       "      <td>0.077399</td>\n",
       "      <td>0.634675</td>\n",
       "      <td>22.532508</td>\n",
       "      <td>8.975232</td>\n",
       "    </tr>\n",
       "    <tr>\n",
       "      <th>std</th>\n",
       "      <td>1.356491</td>\n",
       "      <td>0.841380</td>\n",
       "      <td>1.028543</td>\n",
       "      <td>0.289919</td>\n",
       "      <td>0.995162</td>\n",
       "      <td>23.865332</td>\n",
       "      <td>14.167564</td>\n",
       "    </tr>\n",
       "    <tr>\n",
       "      <th>min</th>\n",
       "      <td>0.000000</td>\n",
       "      <td>0.000000</td>\n",
       "      <td>0.000000</td>\n",
       "      <td>0.000000</td>\n",
       "      <td>0.000000</td>\n",
       "      <td>2.000000</td>\n",
       "      <td>0.000000</td>\n",
       "    </tr>\n",
       "    <tr>\n",
       "      <th>25%</th>\n",
       "      <td>2.000000</td>\n",
       "      <td>2.000000</td>\n",
       "      <td>0.000000</td>\n",
       "      <td>0.000000</td>\n",
       "      <td>0.000000</td>\n",
       "      <td>9.000000</td>\n",
       "      <td>0.000000</td>\n",
       "    </tr>\n",
       "    <tr>\n",
       "      <th>50%</th>\n",
       "      <td>3.000000</td>\n",
       "      <td>2.000000</td>\n",
       "      <td>0.000000</td>\n",
       "      <td>0.000000</td>\n",
       "      <td>0.000000</td>\n",
       "      <td>15.000000</td>\n",
       "      <td>2.000000</td>\n",
       "    </tr>\n",
       "    <tr>\n",
       "      <th>75%</th>\n",
       "      <td>4.000000</td>\n",
       "      <td>2.000000</td>\n",
       "      <td>1.000000</td>\n",
       "      <td>0.000000</td>\n",
       "      <td>1.000000</td>\n",
       "      <td>26.000000</td>\n",
       "      <td>13.000000</td>\n",
       "    </tr>\n",
       "    <tr>\n",
       "      <th>max</th>\n",
       "      <td>8.000000</td>\n",
       "      <td>7.000000</td>\n",
       "      <td>6.000000</td>\n",
       "      <td>2.000000</td>\n",
       "      <td>6.000000</td>\n",
       "      <td>206.000000</td>\n",
       "      <td>85.000000</td>\n",
       "    </tr>\n",
       "  </tbody>\n",
       "</table>\n",
       "</div>"
      ],
      "text/plain": [
       "       count_people  count_adults  count_children  count_babies  count_pets  \\\n",
       "count    323.000000    323.000000      323.000000    323.000000  323.000000   \n",
       "mean       2.773994      1.987616        0.708978      0.077399    0.634675   \n",
       "std        1.356491      0.841380        1.028543      0.289919    0.995162   \n",
       "min        0.000000      0.000000        0.000000      0.000000    0.000000   \n",
       "25%        2.000000      2.000000        0.000000      0.000000    0.000000   \n",
       "50%        3.000000      2.000000        0.000000      0.000000    0.000000   \n",
       "75%        4.000000      2.000000        1.000000      0.000000    1.000000   \n",
       "max        8.000000      7.000000        6.000000      2.000000    6.000000   \n",
       "\n",
       "       ordered_items  n_regulars  \n",
       "count     323.000000  323.000000  \n",
       "mean       22.532508    8.975232  \n",
       "std        23.865332   14.167564  \n",
       "min         2.000000    0.000000  \n",
       "25%         9.000000    0.000000  \n",
       "50%        15.000000    2.000000  \n",
       "75%        26.000000   13.000000  \n",
       "max       206.000000   85.000000  "
      ]
     },
     "execution_count": 63,
     "metadata": {},
     "output_type": "execute_result"
    }
   ],
   "source": [
    "users.describe()"
   ]
  },
  {
   "cell_type": "code",
   "execution_count": 77,
   "id": "41b3e902",
   "metadata": {},
   "outputs": [
    {
     "data": {
      "text/plain": [
       "<Axes: >"
      ]
     },
     "execution_count": 77,
     "metadata": {},
     "output_type": "execute_result"
    },
    {
     "data": {
      "image/png": "[encoded data removed]",
      "text/plain": [
       "<Figure size 640x480 with 1 Axes>"
      ]
     },
     "metadata": {},
     "output_type": "display_data"
    }
   ],
   "source": [
    "counts_family = pd.DataFrame({'count_adults': users.count_adults.value_counts(), \n",
    "                 'count_children': users.count_children.value_counts(),\n",
    "                  'count_babies': users.count_babies.value_counts()})\n",
    "\n",
    "counts_family.plot(kind='bar')"
   ]
  },
  {
   "cell_type": "code",
   "execution_count": null,
   "id": "724658b2",
   "metadata": {},
   "outputs": [
    {
     "data": {
      "text/plain": [
       "Text(0.5, 1.0, 'Mean regular orders per user_nuts')"
      ]
     },
     "execution_count": 83,
     "metadata": {},
     "output_type": "execute_result"
    },
    {
     "data": {
      "image/png": "[encoded data removed]",
      "text/plain": [
       "<Figure size 640x480 with 1 Axes>"
      ]
     },
     "metadata": {},
     "output_type": "display_data"
    }
   ],
   "source": [
    "users.groupby('user_nuts1')['n_regulars'].mean().plot(kind='bar')\n",
    "plt.title('Mean regular orders per user_nuts')"
   ]
  },
  {
   "cell_type": "code",
   "execution_count": 89,
   "id": "698ed51e",
   "metadata": {},
   "outputs": [
    {
     "data": {
      "text/plain": [
       "np.float64(0.44272445820433437)"
      ]
     },
     "execution_count": 89,
     "metadata": {},
     "output_type": "execute_result"
    }
   ],
   "source": [
    "# What percentage of users have at least 1 baby or 1 child\n",
    "(users[['count_children','count_babies']].sum(axis=1) > 0).sum() / users.count_people.count()\n"
   ]
  },
  {
   "cell_type": "markdown",
   "id": "501cb61b",
   "metadata": {},
   "source": [
    "#### Conclusions\n",
    "1. There are at least 1 baby or 1 child in 44% of houses\n",
    "2. There are some regions with more regular orders (UKL, UKJ, UKF)\n",
    "3. Most of the houses is formed by a couple of adults"
   ]
  },
  {
   "cell_type": "markdown",
   "id": "db7f8482",
   "metadata": {},
   "source": [
    "### Regulars"
   ]
  },
  {
   "cell_type": "code",
   "execution_count": 5,
   "id": "9e40144d",
   "metadata": {},
   "outputs": [],
   "source": [
    "regulars_df = regulars.merge(inventory, on='variant_id', how='left')"
   ]
  },
  {
   "cell_type": "code",
   "execution_count": 6,
   "id": "8cb207a0",
   "metadata": {},
   "outputs": [
    {
     "data": {
      "text/html": [
       "<div>\n",
       "<style scoped>\n",
       "    .dataframe tbody tr th:only-of-type {\n",
       "        vertical-align: middle;\n",
       "    }\n",
       "\n",
       "    .dataframe tbody tr th {\n",
       "        vertical-align: top;\n",
       "    }\n",
       "\n",
       "    .dataframe thead th {\n",
       "        text-align: right;\n",
       "    }\n",
       "</style>\n",
       "<table border=\"1\" class=\"dataframe\">\n",
       "  <thead>\n",
       "    <tr style=\"text-align: right;\">\n",
       "      <th></th>\n",
       "      <th>user_id</th>\n",
       "      <th>variant_id</th>\n",
       "      <th>created_at</th>\n",
       "      <th>price</th>\n",
       "      <th>compare_at_price</th>\n",
       "      <th>vendor</th>\n",
       "      <th>product_type</th>\n",
       "      <th>tags</th>\n",
       "    </tr>\n",
       "  </thead>\n",
       "  <tbody>\n",
       "    <tr>\n",
       "      <th>0</th>\n",
       "      <td>68e872ff888303bff58ec56a3a986f77ddebdbe5c279e7...</td>\n",
       "      <td>33618848088196</td>\n",
       "      <td>2020-04-30 15:07:03</td>\n",
       "      <td>NaN</td>\n",
       "      <td>NaN</td>\n",
       "      <td>NaN</td>\n",
       "      <td>NaN</td>\n",
       "      <td>NaN</td>\n",
       "    </tr>\n",
       "    <tr>\n",
       "      <th>1</th>\n",
       "      <td>aed88fc0b004270a62ff1fe4b94141f6b1db1496dbb0c0...</td>\n",
       "      <td>33667178659972</td>\n",
       "      <td>2020-05-05 23:34:35</td>\n",
       "      <td>NaN</td>\n",
       "      <td>NaN</td>\n",
       "      <td>NaN</td>\n",
       "      <td>NaN</td>\n",
       "      <td>NaN</td>\n",
       "    </tr>\n",
       "    <tr>\n",
       "      <th>2</th>\n",
       "      <td>68e872ff888303bff58ec56a3a986f77ddebdbe5c279e7...</td>\n",
       "      <td>33619009208452</td>\n",
       "      <td>2020-04-30 15:07:03</td>\n",
       "      <td>NaN</td>\n",
       "      <td>NaN</td>\n",
       "      <td>NaN</td>\n",
       "      <td>NaN</td>\n",
       "      <td>NaN</td>\n",
       "    </tr>\n",
       "    <tr>\n",
       "      <th>3</th>\n",
       "      <td>aed88fc0b004270a62ff1fe4b94141f6b1db1496dbb0c0...</td>\n",
       "      <td>33667305373828</td>\n",
       "      <td>2020-05-05 23:34:35</td>\n",
       "      <td>NaN</td>\n",
       "      <td>NaN</td>\n",
       "      <td>NaN</td>\n",
       "      <td>NaN</td>\n",
       "      <td>NaN</td>\n",
       "    </tr>\n",
       "    <tr>\n",
       "      <th>4</th>\n",
       "      <td>4594e99557113d5a1c5b59bf31b8704aafe5c7bd180b32...</td>\n",
       "      <td>33667247341700</td>\n",
       "      <td>2020-05-06 14:42:11</td>\n",
       "      <td>3.49</td>\n",
       "      <td>3.5</td>\n",
       "      <td>method</td>\n",
       "      <td>cleaning-products</td>\n",
       "      <td>[cruelty-free, eco, vegan, window-glass-cleaner]</td>\n",
       "    </tr>\n",
       "  </tbody>\n",
       "</table>\n",
       "</div>"
      ],
      "text/plain": [
       "                                             user_id      variant_id  \\\n",
       "0  68e872ff888303bff58ec56a3a986f77ddebdbe5c279e7...  33618848088196   \n",
       "1  aed88fc0b004270a62ff1fe4b94141f6b1db1496dbb0c0...  33667178659972   \n",
       "2  68e872ff888303bff58ec56a3a986f77ddebdbe5c279e7...  33619009208452   \n",
       "3  aed88fc0b004270a62ff1fe4b94141f6b1db1496dbb0c0...  33667305373828   \n",
       "4  4594e99557113d5a1c5b59bf31b8704aafe5c7bd180b32...  33667247341700   \n",
       "\n",
       "           created_at  price  compare_at_price  vendor       product_type  \\\n",
       "0 2020-04-30 15:07:03    NaN               NaN     NaN                NaN   \n",
       "1 2020-05-05 23:34:35    NaN               NaN     NaN                NaN   \n",
       "2 2020-04-30 15:07:03    NaN               NaN     NaN                NaN   \n",
       "3 2020-05-05 23:34:35    NaN               NaN     NaN                NaN   \n",
       "4 2020-05-06 14:42:11   3.49               3.5  method  cleaning-products   \n",
       "\n",
       "                                               tags  \n",
       "0                                               NaN  \n",
       "1                                               NaN  \n",
       "2                                               NaN  \n",
       "3                                               NaN  \n",
       "4  [cruelty-free, eco, vegan, window-glass-cleaner]  "
      ]
     },
     "execution_count": 6,
     "metadata": {},
     "output_type": "execute_result"
    }
   ],
   "source": [
    "regulars_df.head()"
   ]
  },
  {
   "cell_type": "code",
   "execution_count": 20,
   "id": "e7b7a3f5",
   "metadata": {},
   "outputs": [
    {
     "data": {
      "text/plain": [
       "Text(0.5, 1.0, 'Vendor regular sales')"
      ]
     },
     "execution_count": 20,
     "metadata": {},
     "output_type": "execute_result"
    },
    {
     "data": {
      "image/png": "[encoded data removed]",
      "text/plain": [
       "<Figure size 640x480 with 1 Axes>"
      ]
     },
     "metadata": {},
     "output_type": "display_data"
    }
   ],
   "source": [
    "pd.DataFrame(regulars_df.value_counts('vendor')).head(20).plot(kind='bar')\n",
    "plt.title('Vendor regular sales')"
   ]
  },
  {
   "cell_type": "code",
   "execution_count": 21,
   "id": "9a03a6ec",
   "metadata": {},
   "outputs": [
    {
     "data": {
      "text/html": [
       "<div>\n",
       "<style scoped>\n",
       "    .dataframe tbody tr th:only-of-type {\n",
       "        vertical-align: middle;\n",
       "    }\n",
       "\n",
       "    .dataframe tbody tr th {\n",
       "        vertical-align: top;\n",
       "    }\n",
       "\n",
       "    .dataframe thead th {\n",
       "        text-align: right;\n",
       "    }\n",
       "</style>\n",
       "<table border=\"1\" class=\"dataframe\">\n",
       "  <thead>\n",
       "    <tr style=\"text-align: right;\">\n",
       "      <th></th>\n",
       "      <th>user_id</th>\n",
       "      <th>variant_id</th>\n",
       "      <th>created_at</th>\n",
       "      <th>price</th>\n",
       "      <th>compare_at_price</th>\n",
       "      <th>vendor</th>\n",
       "      <th>product_type</th>\n",
       "      <th>tags</th>\n",
       "    </tr>\n",
       "  </thead>\n",
       "  <tbody>\n",
       "    <tr>\n",
       "      <th>17</th>\n",
       "      <td>d883991facbc3b07b62da342d00c97d1e6cea8d2176695...</td>\n",
       "      <td>33667198910596</td>\n",
       "      <td>2020-07-06 10:12:08</td>\n",
       "      <td>14.99</td>\n",
       "      <td>16.55</td>\n",
       "      <td>ecover</td>\n",
       "      <td>dishwashing</td>\n",
       "      <td>[cruelty-free, dishwasher-tablets, eco, vegan]</td>\n",
       "    </tr>\n",
       "    <tr>\n",
       "      <th>33</th>\n",
       "      <td>e5b770af50d862c43279d6109f99862e5b3f051b5ffda5...</td>\n",
       "      <td>33667206283396</td>\n",
       "      <td>2020-10-25 11:51:57</td>\n",
       "      <td>9.99</td>\n",
       "      <td>12.00</td>\n",
       "      <td>ecover</td>\n",
       "      <td>fabric-softener-freshener</td>\n",
       "      <td>[cruelty-free, eco, fabric-softener-freshener,...</td>\n",
       "    </tr>\n",
       "    <tr>\n",
       "      <th>41</th>\n",
       "      <td>3bb251f3a44df9ec173c3a8e3335454728e62a82826f9d...</td>\n",
       "      <td>33667207266436</td>\n",
       "      <td>2020-12-06 11:27:52</td>\n",
       "      <td>1.79</td>\n",
       "      <td>2.09</td>\n",
       "      <td>ecover</td>\n",
       "      <td>cleaning-products</td>\n",
       "      <td>[bathroom-limescale-cleaner, cruelty-free, eco...</td>\n",
       "    </tr>\n",
       "    <tr>\n",
       "      <th>44</th>\n",
       "      <td>8010a4b30f6f7d7c7180c4aa4da392ba0c763d9eec11bd...</td>\n",
       "      <td>33667207299204</td>\n",
       "      <td>2020-06-09 14:17:42</td>\n",
       "      <td>3.99</td>\n",
       "      <td>4.00</td>\n",
       "      <td>ecover</td>\n",
       "      <td>delicates-stain-remover</td>\n",
       "      <td>[cruelty-free, delicates-stain-remover, eco, v...</td>\n",
       "    </tr>\n",
       "  </tbody>\n",
       "</table>\n",
       "</div>"
      ],
      "text/plain": [
       "                                              user_id      variant_id  \\\n",
       "17  d883991facbc3b07b62da342d00c97d1e6cea8d2176695...  33667198910596   \n",
       "33  e5b770af50d862c43279d6109f99862e5b3f051b5ffda5...  33667206283396   \n",
       "41  3bb251f3a44df9ec173c3a8e3335454728e62a82826f9d...  33667207266436   \n",
       "44  8010a4b30f6f7d7c7180c4aa4da392ba0c763d9eec11bd...  33667207299204   \n",
       "\n",
       "            created_at  price  compare_at_price  vendor  \\\n",
       "17 2020-07-06 10:12:08  14.99             16.55  ecover   \n",
       "33 2020-10-25 11:51:57   9.99             12.00  ecover   \n",
       "41 2020-12-06 11:27:52   1.79              2.09  ecover   \n",
       "44 2020-06-09 14:17:42   3.99              4.00  ecover   \n",
       "\n",
       "                 product_type  \\\n",
       "17                dishwashing   \n",
       "33  fabric-softener-freshener   \n",
       "41          cleaning-products   \n",
       "44    delicates-stain-remover   \n",
       "\n",
       "                                                 tags  \n",
       "17     [cruelty-free, dishwasher-tablets, eco, vegan]  \n",
       "33  [cruelty-free, eco, fabric-softener-freshener,...  \n",
       "41  [bathroom-limescale-cleaner, cruelty-free, eco...  \n",
       "44  [cruelty-free, delicates-stain-remover, eco, v...  "
      ]
     },
     "execution_count": 21,
     "metadata": {},
     "output_type": "execute_result"
    }
   ],
   "source": [
    "regulars_df[regulars_df['vendor']=='ecover'].head(4)"
   ]
  },
  {
   "cell_type": "code",
   "execution_count": 22,
   "id": "bc8164d0",
   "metadata": {},
   "outputs": [
    {
     "data": {
      "text/html": [
       "<div>\n",
       "<style scoped>\n",
       "    .dataframe tbody tr th:only-of-type {\n",
       "        vertical-align: middle;\n",
       "    }\n",
       "\n",
       "    .dataframe tbody tr th {\n",
       "        vertical-align: top;\n",
       "    }\n",
       "\n",
       "    .dataframe thead th {\n",
       "        text-align: right;\n",
       "    }\n",
       "</style>\n",
       "<table border=\"1\" class=\"dataframe\">\n",
       "  <thead>\n",
       "    <tr style=\"text-align: right;\">\n",
       "      <th></th>\n",
       "      <th>user_id</th>\n",
       "      <th>variant_id</th>\n",
       "      <th>created_at</th>\n",
       "      <th>price</th>\n",
       "      <th>compare_at_price</th>\n",
       "      <th>vendor</th>\n",
       "      <th>product_type</th>\n",
       "      <th>tags</th>\n",
       "    </tr>\n",
       "  </thead>\n",
       "  <tbody>\n",
       "    <tr>\n",
       "      <th>34</th>\n",
       "      <td>e6a9de6ce659cf1df9ce7e65fdd7c367cb819cdbb762e3...</td>\n",
       "      <td>33826427207812</td>\n",
       "      <td>2020-11-01 14:29:11</td>\n",
       "      <td>1.29</td>\n",
       "      <td>1.49</td>\n",
       "      <td>biona</td>\n",
       "      <td>cooking-sauces</td>\n",
       "      <td>[pasta-pizza-sauce, tinned-tomatoes-puree-pass...</td>\n",
       "    </tr>\n",
       "    <tr>\n",
       "      <th>43</th>\n",
       "      <td>7f714510bd90defeb18a27c9e2a6f431532431b8c35088...</td>\n",
       "      <td>33826421899396</td>\n",
       "      <td>2020-12-18 23:19:23</td>\n",
       "      <td>3.99</td>\n",
       "      <td>4.39</td>\n",
       "      <td>biona</td>\n",
       "      <td>tins-packaged-foods</td>\n",
       "      <td>[christmas, chutney-pickle, organic, pickled-f...</td>\n",
       "    </tr>\n",
       "    <tr>\n",
       "      <th>51</th>\n",
       "      <td>66a195720d6988ff4d32155cc03631b84f68b34d3b0a1e...</td>\n",
       "      <td>33951139135620</td>\n",
       "      <td>2020-07-06 17:17:52</td>\n",
       "      <td>1.69</td>\n",
       "      <td>2.49</td>\n",
       "      <td>biona</td>\n",
       "      <td>tins-packaged-foods</td>\n",
       "      <td>[christmas, organic, pickled-foods-olives, vegan]</td>\n",
       "    </tr>\n",
       "    <tr>\n",
       "      <th>109</th>\n",
       "      <td>27c2c38327ba83867c6291ee6bd0c35548edd256ed51c9...</td>\n",
       "      <td>33826466463876</td>\n",
       "      <td>2021-02-02 15:17:30</td>\n",
       "      <td>16.99</td>\n",
       "      <td>17.29</td>\n",
       "      <td>biona</td>\n",
       "      <td>cooking-ingredients</td>\n",
       "      <td>[oils, organic, vegan]</td>\n",
       "    </tr>\n",
       "  </tbody>\n",
       "</table>\n",
       "</div>"
      ],
      "text/plain": [
       "                                               user_id      variant_id  \\\n",
       "34   e6a9de6ce659cf1df9ce7e65fdd7c367cb819cdbb762e3...  33826427207812   \n",
       "43   7f714510bd90defeb18a27c9e2a6f431532431b8c35088...  33826421899396   \n",
       "51   66a195720d6988ff4d32155cc03631b84f68b34d3b0a1e...  33951139135620   \n",
       "109  27c2c38327ba83867c6291ee6bd0c35548edd256ed51c9...  33826466463876   \n",
       "\n",
       "             created_at  price  compare_at_price vendor         product_type  \\\n",
       "34  2020-11-01 14:29:11   1.29              1.49  biona       cooking-sauces   \n",
       "43  2020-12-18 23:19:23   3.99              4.39  biona  tins-packaged-foods   \n",
       "51  2020-07-06 17:17:52   1.69              2.49  biona  tins-packaged-foods   \n",
       "109 2021-02-02 15:17:30  16.99             17.29  biona  cooking-ingredients   \n",
       "\n",
       "                                                  tags  \n",
       "34   [pasta-pizza-sauce, tinned-tomatoes-puree-pass...  \n",
       "43   [christmas, chutney-pickle, organic, pickled-f...  \n",
       "51   [christmas, organic, pickled-foods-olives, vegan]  \n",
       "109                             [oils, organic, vegan]  "
      ]
     },
     "execution_count": 22,
     "metadata": {},
     "output_type": "execute_result"
    }
   ],
   "source": [
    "regulars_df[regulars_df['vendor']=='biona'].head(4)"
   ]
  },
  {
   "cell_type": "code",
   "execution_count": 110,
   "id": "7165c309",
   "metadata": {},
   "outputs": [
    {
     "data": {
      "image/png": "[encoded data removed]",
      "text/plain": [
       "<Figure size 640x480 with 1 Axes>"
      ]
     },
     "metadata": {},
     "output_type": "display_data"
    }
   ],
   "source": [
    "product_counts = regulars_df['variant_id'].value_counts().reset_index()\n",
    "vendor_per_product = regulars_df.drop_duplicates('variant_id').set_index('variant_id')['vendor']\n",
    "product_counts_vendor = product_counts.merge(vendor_per_product, on='variant_id', how='left')\n",
    "sns.barplot(x='vendor', y='count', data=product_counts_vendor.head(20))\n",
    "plt.xticks(rotation=90);"
   ]
  },
  {
   "cell_type": "code",
   "execution_count": 82,
   "id": "1a3a1525",
   "metadata": {},
   "outputs": [
    {
     "data": {
      "text/html": [
       "<div>\n",
       "<style scoped>\n",
       "    .dataframe tbody tr th:only-of-type {\n",
       "        vertical-align: middle;\n",
       "    }\n",
       "\n",
       "    .dataframe tbody tr th {\n",
       "        vertical-align: top;\n",
       "    }\n",
       "\n",
       "    .dataframe thead th {\n",
       "        text-align: right;\n",
       "    }\n",
       "</style>\n",
       "<table border=\"1\" class=\"dataframe\">\n",
       "  <thead>\n",
       "    <tr style=\"text-align: right;\">\n",
       "      <th></th>\n",
       "      <th>user_id</th>\n",
       "      <th>variant_id</th>\n",
       "      <th>created_at</th>\n",
       "      <th>price</th>\n",
       "      <th>compare_at_price</th>\n",
       "      <th>vendor</th>\n",
       "      <th>product_type</th>\n",
       "      <th>tags</th>\n",
       "    </tr>\n",
       "  </thead>\n",
       "  <tbody>\n",
       "    <tr>\n",
       "      <th>95</th>\n",
       "      <td>1e49bd8004043d757673793e7d5ea394b4eca7f852b179...</td>\n",
       "      <td>34081589887108</td>\n",
       "      <td>2021-01-13 06:12:03</td>\n",
       "      <td>10.79</td>\n",
       "      <td>11.94</td>\n",
       "      <td>oatly</td>\n",
       "      <td>long-life-milk-substitutes</td>\n",
       "      <td>[oat-milk, vegan]</td>\n",
       "    </tr>\n",
       "  </tbody>\n",
       "</table>\n",
       "</div>"
      ],
      "text/plain": [
       "                                              user_id      variant_id  \\\n",
       "95  1e49bd8004043d757673793e7d5ea394b4eca7f852b179...  34081589887108   \n",
       "\n",
       "            created_at  price  compare_at_price vendor  \\\n",
       "95 2021-01-13 06:12:03  10.79             11.94  oatly   \n",
       "\n",
       "                  product_type               tags  \n",
       "95  long-life-milk-substitutes  [oat-milk, vegan]  "
      ]
     },
     "execution_count": 82,
     "metadata": {},
     "output_type": "execute_result"
    }
   ],
   "source": [
    "regulars_df[regulars_df['variant_id']==product_counts_vendor.variant_id[0]].head(1)"
   ]
  },
  {
   "cell_type": "code",
   "execution_count": 92,
   "id": "9f6fdc23",
   "metadata": {},
   "outputs": [
    {
     "data": {
      "text/html": [
       "<div>\n",
       "<style scoped>\n",
       "    .dataframe tbody tr th:only-of-type {\n",
       "        vertical-align: middle;\n",
       "    }\n",
       "\n",
       "    .dataframe tbody tr th {\n",
       "        vertical-align: top;\n",
       "    }\n",
       "\n",
       "    .dataframe thead th {\n",
       "        text-align: right;\n",
       "    }\n",
       "</style>\n",
       "<table border=\"1\" class=\"dataframe\">\n",
       "  <thead>\n",
       "    <tr style=\"text-align: right;\">\n",
       "      <th></th>\n",
       "      <th>user_id</th>\n",
       "      <th>variant_id</th>\n",
       "      <th>created_at</th>\n",
       "      <th>price</th>\n",
       "      <th>compare_at_price</th>\n",
       "      <th>vendor</th>\n",
       "      <th>product_type</th>\n",
       "      <th>tags</th>\n",
       "    </tr>\n",
       "  </thead>\n",
       "  <tbody>\n",
       "    <tr>\n",
       "      <th>565</th>\n",
       "      <td>12c214c4b9ec4ffb12694359db5351bb45248bb787c53b...</td>\n",
       "      <td>34370361229444</td>\n",
       "      <td>2021-02-15 20:14:31</td>\n",
       "      <td>4.99</td>\n",
       "      <td>5.5</td>\n",
       "      <td>whogivesacrap</td>\n",
       "      <td>toilet-roll-kitchen-roll-tissue</td>\n",
       "      <td>[b-corp, eco, toilet-rolls]</td>\n",
       "    </tr>\n",
       "  </tbody>\n",
       "</table>\n",
       "</div>"
      ],
      "text/plain": [
       "                                               user_id      variant_id  \\\n",
       "565  12c214c4b9ec4ffb12694359db5351bb45248bb787c53b...  34370361229444   \n",
       "\n",
       "             created_at  price  compare_at_price         vendor  \\\n",
       "565 2021-02-15 20:14:31   4.99               5.5  whogivesacrap   \n",
       "\n",
       "                        product_type                         tags  \n",
       "565  toilet-roll-kitchen-roll-tissue  [b-corp, eco, toilet-rolls]  "
      ]
     },
     "execution_count": 92,
     "metadata": {},
     "output_type": "execute_result"
    }
   ],
   "source": [
    "regulars_df[regulars_df['variant_id']==product_counts_vendor.variant_id[1]].head(1)"
   ]
  },
  {
   "cell_type": "code",
   "execution_count": 95,
   "id": "ea886850",
   "metadata": {},
   "outputs": [],
   "source": [
    "regulars_df['price_difference'] = regulars_df.price-regulars_df.compare_at_price"
   ]
  },
  {
   "cell_type": "code",
   "execution_count": 99,
   "id": "2affb68e",
   "metadata": {},
   "outputs": [
    {
     "data": {
      "text/html": [
       "<div>\n",
       "<style scoped>\n",
       "    .dataframe tbody tr th:only-of-type {\n",
       "        vertical-align: middle;\n",
       "    }\n",
       "\n",
       "    .dataframe tbody tr th {\n",
       "        vertical-align: top;\n",
       "    }\n",
       "\n",
       "    .dataframe thead th {\n",
       "        text-align: right;\n",
       "    }\n",
       "</style>\n",
       "<table border=\"1\" class=\"dataframe\">\n",
       "  <thead>\n",
       "    <tr style=\"text-align: right;\">\n",
       "      <th></th>\n",
       "      <th>user_id</th>\n",
       "      <th>variant_id</th>\n",
       "      <th>created_at</th>\n",
       "      <th>price</th>\n",
       "      <th>compare_at_price</th>\n",
       "      <th>vendor</th>\n",
       "      <th>product_type</th>\n",
       "      <th>tags</th>\n",
       "      <th>price_difference</th>\n",
       "    </tr>\n",
       "  </thead>\n",
       "  <tbody>\n",
       "    <tr>\n",
       "      <th>4</th>\n",
       "      <td>4594e99557113d5a1c5b59bf31b8704aafe5c7bd180b32...</td>\n",
       "      <td>33667247341700</td>\n",
       "      <td>2020-05-06 14:42:11</td>\n",
       "      <td>3.49</td>\n",
       "      <td>3.50</td>\n",
       "      <td>method</td>\n",
       "      <td>cleaning-products</td>\n",
       "      <td>[cruelty-free, eco, vegan, window-glass-cleaner]</td>\n",
       "      <td>-0.01</td>\n",
       "    </tr>\n",
       "    <tr>\n",
       "      <th>8</th>\n",
       "      <td>4594e99557113d5a1c5b59bf31b8704aafe5c7bd180b32...</td>\n",
       "      <td>33667182493828</td>\n",
       "      <td>2020-05-06 14:42:11</td>\n",
       "      <td>4.29</td>\n",
       "      <td>5.40</td>\n",
       "      <td>bulldog</td>\n",
       "      <td>skincare</td>\n",
       "      <td>[cruelty-free, eco, facial-skincare, vegan]</td>\n",
       "      <td>-1.11</td>\n",
       "    </tr>\n",
       "    <tr>\n",
       "      <th>17</th>\n",
       "      <td>d883991facbc3b07b62da342d00c97d1e6cea8d2176695...</td>\n",
       "      <td>33667198910596</td>\n",
       "      <td>2020-07-06 10:12:08</td>\n",
       "      <td>14.99</td>\n",
       "      <td>16.55</td>\n",
       "      <td>ecover</td>\n",
       "      <td>dishwashing</td>\n",
       "      <td>[cruelty-free, dishwasher-tablets, eco, vegan]</td>\n",
       "      <td>-1.56</td>\n",
       "    </tr>\n",
       "  </tbody>\n",
       "</table>\n",
       "</div>"
      ],
      "text/plain": [
       "                                              user_id      variant_id  \\\n",
       "4   4594e99557113d5a1c5b59bf31b8704aafe5c7bd180b32...  33667247341700   \n",
       "8   4594e99557113d5a1c5b59bf31b8704aafe5c7bd180b32...  33667182493828   \n",
       "17  d883991facbc3b07b62da342d00c97d1e6cea8d2176695...  33667198910596   \n",
       "\n",
       "            created_at  price  compare_at_price   vendor       product_type  \\\n",
       "4  2020-05-06 14:42:11   3.49              3.50   method  cleaning-products   \n",
       "8  2020-05-06 14:42:11   4.29              5.40  bulldog           skincare   \n",
       "17 2020-07-06 10:12:08  14.99             16.55   ecover        dishwashing   \n",
       "\n",
       "                                                tags  price_difference  \n",
       "4   [cruelty-free, eco, vegan, window-glass-cleaner]             -0.01  \n",
       "8        [cruelty-free, eco, facial-skincare, vegan]             -1.11  \n",
       "17    [cruelty-free, dishwasher-tablets, eco, vegan]             -1.56  "
      ]
     },
     "execution_count": 99,
     "metadata": {},
     "output_type": "execute_result"
    }
   ],
   "source": [
    "regulars_df.dropna().head(3)"
   ]
  },
  {
   "cell_type": "code",
   "execution_count": 118,
   "id": "6a95d488",
   "metadata": {},
   "outputs": [
    {
     "data": {
      "image/png": "[encoded data removed]",
      "text/plain": [
       "<Figure size 640x480 with 1 Axes>"
      ]
     },
     "metadata": {},
     "output_type": "display_data"
    }
   ],
   "source": [
    "delta_price = regulars_df.drop_duplicates('variant_id').set_index('variant_id')['price_difference'].reset_index()\n",
    "products_diff_price = product_counts_vendor.merge(delta_price, on='variant_id', how='left')\n",
    "sns.barplot(x='vendor', y='price_difference', data=products_diff_price.head(20))\n",
    "plt.xticks(rotation=90);"
   ]
  },
  {
   "cell_type": "markdown",
   "id": "757724fa",
   "metadata": {},
   "source": [
    "#### CONCLUSIONS\n",
    "1. The vendors with more regulars (ecover, method, biona) sold is based on cruelty-free, eco, organic and vegan products\n",
    "2. The product more common in regulars is from Oatly, and is a oat milk\n",
    "3. In the first 20 more-sold products, the price difference w.r.t the reference is lower, which could be indicating that we are selling cheaper than competence"
   ]
  }
 ],
 "metadata": {
  "kernelspec": {
   "display_name": "zrive",
   "language": "python",
   "name": "python3"
  },
  "language_info": {
   "codemirror_mode": {
    "name": "ipython",
    "version": 3
   },
   "file_extension": ".py",
   "mimetype": "text/x-python",
   "name": "python",
   "nbconvert_exporter": "python",
   "pygments_lexer": "ipython3",
   "version": "3.11.5"
  }
 },
 "nbformat": 4,
 "nbformat_minor": 5
}
